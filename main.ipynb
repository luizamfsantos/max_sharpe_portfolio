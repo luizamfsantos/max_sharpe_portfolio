{
 "cells": [
  {
   "cell_type": "markdown",
   "metadata": {},
   "source": [
    "# Maximize Sharpe Ratio Portfolio\n",
    "\n",
    "The **Maximize Sharpe Ratio Portfolio** is a portfolio optimization strategy that aims to maximize the risk-adjusted return of a portfolio by selecting the optimal combination of assets. It is based on the concept of the Sharpe ratio, which measures the excess return per unit of risk in a portfolio.\n",
    "\n",
    "## Key Concepts\n",
    "\n",
    "- **Sharpe Ratio:** The Sharpe ratio is a measure of risk-adjusted return that calculates the excess return of a portfolio over the risk-free rate per unit of volatility. It is defined as:\n",
    " $$Sharpe Ratio = \\frac{E(R_p) - R_f}{\\sigma_p}$$\n",
    " where:\n",
    "   - $E(R_p)$ is the expected return of the portfolio,\n",
    "   - $R_f$ is the risk-free rate,\n",
    "   - $\\sigma_p$ is the standard deviation of the portfolio return.\n",
    "\n",
    "## Characteristics\n",
    "\n",
    "- **Objective:** To maximize the Sharpe ratio of a portfolio by selecting the optimal weights for each asset.\n",
    "\n",
    "- **Inputs:** The inputs required for the optimization process include the expected returns of the assets, the covariance matrix of asset returns, and the risk-free rate.\n",
    "\n",
    "- **Optimization:** The optimization process involves finding the weights that maximize the Sharpe ratio of the portfolio, subject to the constraint that the sum of the weights equals one.\n",
    "\n",
    "- **Output:** The output of the optimization process is the optimal weights for each asset in the portfolio that maximize the Sharpe ratio.\n",
    "\n",
    "## Limitations\n",
    "\n",
    "- **Assumptions:** The Maximize Sharpe Ratio Portfolio assumes that asset returns are normally distributed and that historical data is an accurate representation of future returns.\n",
    "\n",
    "- **Sensitivity:** The optimization process is sensitive to the inputs, such as expected returns and the covariance matrix, which can impact the results.\n",
    "\n",
    "- **Risk-Free Rate:** The choice of the risk-free rate can also affect the optimization results, as it is used in the calculation of the Sharpe ratio."
   ]
  },
  {
   "cell_type": "markdown",
   "metadata": {},
   "source": [
    "## Usage example"
   ]
  },
  {
   "cell_type": "markdown",
   "metadata": {},
   "source": [
    "An usage example of strategy based on the markowitz min variance portfolio.\n",
    "\n",
    "Your task is to propose a particular strategy similar to the one located at the folder `strategy`. "
   ]
  },
  {
   "cell_type": "code",
   "execution_count": 1,
   "metadata": {},
   "outputs": [],
   "source": [
    "import sys\n",
    "!{sys.executable} -m pip install -r requirements.txt --quiet"
   ]
  },
  {
   "cell_type": "code",
   "execution_count": 10,
   "metadata": {},
   "outputs": [],
   "source": [
    "%load_ext autoreload\n",
    "%autoreload 2"
   ]
  },
  {
   "cell_type": "code",
   "execution_count": 2,
   "metadata": {},
   "outputs": [],
   "source": [
    "import pandas as pd\n",
    "import quantstats as qs"
   ]
  },
  {
   "cell_type": "markdown",
   "metadata": {},
   "source": [
    "## Load Data\n",
    "\n",
    "You may organize the data the way you want. Here, we downloaded all data into the `dataset` directory in parquet format.\n",
    "\n",
    "We also use auxiliar functions from the `data_market` directory to handle these data."
   ]
  },
  {
   "cell_type": "code",
   "execution_count": null,
   "metadata": {},
   "outputs": [],
   "source": [
    "from data_market.datalake import load_data\n",
    "\n",
    "dict_data = load_data()\n",
    "\n",
    "# Let's check the keys of the dictionary, each one a DataFrame\n",
    "print(dict_data.keys())"
   ]
  },
  {
   "cell_type": "code",
   "execution_count": null,
   "metadata": {},
   "outputs": [],
   "source": [
    "# Let's check the first DataFrame: prices of US stocks\n",
    "dict_data['stocks']"
   ]
  },
  {
   "cell_type": "markdown",
   "metadata": {},
   "source": [
    "## Strategy execution\n",
    "\n",
    "Following, we test the execution of our strategy: for just a single day."
   ]
  },
  {
   "cell_type": "code",
   "execution_count": 12,
   "metadata": {},
   "outputs": [],
   "source": [
    "# You must write all the code for your strategy entirely in the strategy directory\n",
    "# Your strategy must implement the StrategyInterface interface defined in simulator/strategy_interface.py\n",
    "from strategy.strategy_max_sharpe import MaxSharpeStrategy\n",
    "\n",
    "strategy = MaxSharpeStrategy()"
   ]
  },
  {
   "cell_type": "code",
   "execution_count": null,
   "metadata": {},
   "outputs": [],
   "source": [
    "# Execution for a single day\n",
    "weights = strategy.calculate_next_weights(data = dict_data, t = 500)\n",
    "\n",
    "# Check if the returned DataFrame has the correct format\n",
    "assert strategy.check_return(weights)"
   ]
  },
  {
   "cell_type": "markdown",
   "metadata": {},
   "source": [
    "Your strategy must return a DataFrame with the columns: `date`, `ticker` and `weights`."
   ]
  },
  {
   "cell_type": "code",
   "execution_count": null,
   "metadata": {},
   "outputs": [],
   "source": [
    "weights"
   ]
  },
  {
   "cell_type": "markdown",
   "metadata": {},
   "source": [
    "## Simulation\n",
    "\n",
    "Following we simulate our strategy and generate the final report."
   ]
  },
  {
   "cell_type": "code",
   "execution_count": null,
   "metadata": {},
   "outputs": [],
   "source": [
    "from simulator.strategy_simulator import strategy_simulator\n",
    "\n",
    "# Initialize data structures to store results\n",
    "ret_port = pd.Series(dtype=\"float64\")  # Series to store portfolio returns\n",
    "weights_db = pd.DataFrame()  # DataFrame to store historical weights\n",
    "\n",
    "# Loop through a range of time values\n",
    "for t in range(500, len(dict_data['stocks'].index) - 1):\n",
    "\n",
    "    # Use the strategy simulator to get portfolio's historical weights [weights_db]\n",
    "    # and its next day returns [ret_port]\n",
    "    ret_port, weights_db = strategy_simulator(path = \"results/\",\n",
    "                                              strategy = strategy,\n",
    "                                              data = dict_data,\n",
    "                                              t = t,\n",
    "                                              ret_port = ret_port,\n",
    "                                              weights_db = weights_db)"
   ]
  },
  {
   "cell_type": "markdown",
   "metadata": {},
   "source": [
    "## Report\n",
    "\n",
    "We can use the results of the simulation, saved in the directory `results`, to generate a report of our strategy using `quantstats`.\n",
    "\n",
    "The simulation generate two parquet files:\n",
    "\n",
    "- [ret_port.parquet](results/ret_port.parquet): DataFrame with the return of the portfolio, for each simulated datetime\n",
    "- [wegiths_db.parquet](results/weights_db.parquet): DataFrame with the weights of each stock in the portfolio, for each simulated datetime"
   ]
  },
  {
   "cell_type": "code",
   "execution_count": null,
   "metadata": {},
   "outputs": [],
   "source": [
    "ret_port = pd.read_parquet(\"results/ret_port.parquet\")\n",
    "ret_port['date'] = pd.to_datetime(ret_port['date'], format = \"%Y-%m-%d\")\n",
    "ret_port = ret_port.set_index(\"date\").ret_port"
   ]
  },
  {
   "cell_type": "code",
   "execution_count": null,
   "metadata": {},
   "outputs": [],
   "source": [
    "ret_port.head(3)"
   ]
  },
  {
   "cell_type": "markdown",
   "metadata": {},
   "source": [
    "Following we generate a HTML report, comparing our strategy with the SP500."
   ]
  },
  {
   "cell_type": "code",
   "execution_count": null,
   "metadata": {},
   "outputs": [],
   "source": [
    "qs.reports.html(ret_port, \"SPY\", text_description=\"\"\"\n",
    "    <p>Demonstration of a simple strategy.</p>\n",
    "    <p><strong>Important</strong>: Transaction costs are not taken into account.</p>\"\"\")"
   ]
  },
  {
   "cell_type": "code",
   "execution_count": null,
   "metadata": {},
   "outputs": [],
   "source": []
  }
 ],
 "metadata": {
  "kernelspec": {
   "display_name": "Python 3 (ipykernel)",
   "language": "python",
   "name": "python3"
  },
  "language_info": {
   "codemirror_mode": {
    "name": "ipython",
    "version": 3
   },
   "file_extension": ".py",
   "mimetype": "text/x-python",
   "name": "python",
   "nbconvert_exporter": "python",
   "pygments_lexer": "ipython3",
   "version": "3.10.0"
  },
  "orig_nbformat": 4
 },
 "nbformat": 4,
 "nbformat_minor": 2
}
